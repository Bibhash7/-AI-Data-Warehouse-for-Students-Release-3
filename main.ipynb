{
 "cells": [
  {
   "cell_type": "code",
   "execution_count": 154,
   "id": "b8650c69-c43f-4494-a61c-09e32f3ee7e9",
   "metadata": {},
   "outputs": [],
   "source": [
    "############   All Important Packages #############################################################\n",
    "\n",
    "import os.path\n",
    "import psycopg2\n",
    "import time\n",
    "from plyer import notification\n",
    "from datetime import date\n",
    "from datetime import datetime, timezone\n",
    "import cv2\n",
    "import matplotlib.pyplot as plt\n",
    "import pytesseract\n",
    "import speech_recognition as speechR\n",
    "import pyttsx3\n",
    "import colored\n",
    "import hashlib\n",
    "pytesseract.pytesseract.tesseract_cmd = 'C:\\\\Program Files\\\\Tesseract-OCR\\\\tesseract.exe'"
   ]
  },
  {
   "cell_type": "code",
   "execution_count": 155,
   "id": "b8408e3a-5599-4f79-a803-3020e5bdf641",
   "metadata": {},
   "outputs": [],
   "source": [
    "%run conn.ipynb"
   ]
  },
  {
   "cell_type": "code",
   "execution_count": 156,
   "id": "3895c31f-0919-40e9-bebb-4df433b320c7",
   "metadata": {},
   "outputs": [],
   "source": [
    "%run adminOps.ipynb"
   ]
  },
  {
   "cell_type": "code",
   "execution_count": 157,
   "id": "9a2df055-d1b8-4aad-afaa-92a411307e5c",
   "metadata": {},
   "outputs": [],
   "source": [
    "%run imageOps.ipynb"
   ]
  },
  {
   "cell_type": "code",
   "execution_count": 158,
   "id": "4ff11b90-28e4-4ba9-9adb-1731066c04ee",
   "metadata": {},
   "outputs": [],
   "source": [
    "%run studentOps.ipynb"
   ]
  },
  {
   "cell_type": "code",
   "execution_count": 159,
   "id": "555dc901-dcd1-47a8-8c5c-de7869375217",
   "metadata": {},
   "outputs": [],
   "source": [
    "%run SpeechLogin.ipynb"
   ]
  },
  {
   "cell_type": "code",
   "execution_count": 160,
   "id": "617ead49-b521-4184-8c70-34994988bddd",
   "metadata": {},
   "outputs": [],
   "source": [
    "%run timer.ipynb"
   ]
  },
  {
   "cell_type": "code",
   "execution_count": 161,
   "id": "3b235aa4-5825-44c2-9b9a-dcf04da61fec",
   "metadata": {},
   "outputs": [],
   "source": [
    "OK = '\\033[92m' #GREEN\n",
    "WARNING = '\\033[93m' #YELLOW\n",
    "FAIL = '\\033[91m' #RED\n",
    "RESET = '\\033[0m' #RESET COLOR"
   ]
  },
  {
   "cell_type": "code",
   "execution_count": null,
   "id": "83b8cff8-44c1-4276-87d4-6f90b7fe72a6",
   "metadata": {},
   "outputs": [
    {
     "name": "stdout",
     "output_type": "stream",
     "text": [
      "\n",
      "|---------------------------------------------------|\n",
      "| Hi,There, Welcome to AI-Student Data Warehouse:   |\n",
      "|---------------------------------------------------|\n",
      "| Prees A for Admin Access:                         |\n",
      "| Press S  for Student Access:                      |\n",
      "| Press Q for Exit:                                 |\n",
      "|---------------------------------------------------|\n",
      "\n"
     ]
    },
    {
     "name": "stdin",
     "output_type": "stream",
     "text": [
      "Enter your Choice:  a\n"
     ]
    },
    {
     "name": "stdout",
     "output_type": "stream",
     "text": [
      "[ Experience AI                                     ]\n",
      "[ ------------------------------------------------- ]\n",
      "[ 1. Press any key for Enter through Voice command  ]\n",
      "[ 2. Press 2 for login using User name and Password ]\n",
      "[ ------------------------------------------------- ]\n",
      "\n"
     ]
    },
    {
     "name": "stdin",
     "output_type": "stream",
     "text": [
      "Enter Login Option:  2\n"
     ]
    },
    {
     "name": "stdout",
     "output_type": "stream",
     "text": [
      "\n",
      "You have  3 attempts, login carefully:\n",
      "\n"
     ]
    },
    {
     "name": "stdin",
     "output_type": "stream",
     "text": [
      "Enter admin ID: bg7\n",
      "Enter admin Password:  111\n"
     ]
    },
    {
     "name": "stdout",
     "output_type": "stream",
     "text": [
      "\u001b[92mCredential Matched! \u001b[0m\n",
      "\n",
      "Welcome Admin:\n",
      "\n",
      "******************************************\n",
      "* Press 1 for create tables              *\n",
      "* Press 2 for Delete records             *\n",
      "* Press 3 for truncate all User tables   *\n",
      "* Press 4 to Publish Result              *\n",
      "* Press 5 to exit                        *\n",
      "******************************************\n",
      "\n"
     ]
    },
    {
     "name": "stdin",
     "output_type": "stream",
     "text": [
      "Enter your Choice:  4\n"
     ]
    },
    {
     "name": "stdout",
     "output_type": "stream",
     "text": [
      "\n",
      "******************************************\n",
      "* Press 1 for create tables              *\n",
      "* Press 2 for Delete records             *\n",
      "* Press 3 for truncate all User tables   *\n",
      "* Press 4 to Publish Result              *\n",
      "* Press 5 to exit                        *\n",
      "******************************************\n",
      "\n"
     ]
    },
    {
     "name": "stdin",
     "output_type": "stream",
     "text": [
      "Enter your Choice:  5\n"
     ]
    },
    {
     "name": "stdout",
     "output_type": "stream",
     "text": [
      "\n",
      "|---------------------------------------------------|\n",
      "| Hi,There, Welcome to AI-Student Data Warehouse:   |\n",
      "|---------------------------------------------------|\n",
      "| Prees A for Admin Access:                         |\n",
      "| Press S  for Student Access:                      |\n",
      "| Press Q for Exit:                                 |\n",
      "|---------------------------------------------------|\n",
      "\n"
     ]
    },
    {
     "name": "stdin",
     "output_type": "stream",
     "text": [
      "Enter your Choice:  s\n"
     ]
    },
    {
     "name": "stdout",
     "output_type": "stream",
     "text": [
      "\n",
      "Welcome New Member:\n",
      "\n",
      "#>>>>>>>>>>>>>>>>>>>>>>>>>>>>>>>>>>#\n",
      "# prees I for Insert:              #\n",
      "# Press U for Update records:      #\n",
      "# Press R to View Result:          #\n",
      "#>>>>>>>>>>>>>>>>>>>>>>>>>>>>>>>>>>#\n",
      "\n"
     ]
    },
    {
     "name": "stdin",
     "output_type": "stream",
     "text": [
      "Enter your Choice:  r\n"
     ]
    },
    {
     "name": "stdout",
     "output_type": "stream",
     "text": [
      "\n",
      "All Historic Results:   \n",
      "sid      name      total       RESULT    Date of Exam\n",
      "1         Bibhash     90.0        Pass      2022-02-22\n",
      "1         Abhash     90.0        Pass      2022-02-22\n",
      "1         Bibhash     90.0        Pass      2022-02-22\n",
      "\n",
      "|---------------------------------------------------|\n",
      "| Hi,There, Welcome to AI-Student Data Warehouse:   |\n",
      "|---------------------------------------------------|\n",
      "| Prees A for Admin Access:                         |\n",
      "| Press S  for Student Access:                      |\n",
      "| Press Q for Exit:                                 |\n",
      "|---------------------------------------------------|\n",
      "\n"
     ]
    }
   ],
   "source": [
    "################# Main Code ###############################################################\n",
    "while(1):\n",
    "    global adminLoginCount\n",
    "    global noOfAttemptsToLogin\n",
    "    print()\n",
    "    print( \"|---------------------------------------------------|\\n\"\n",
    "          +\"| Hi,There, Welcome to AI-Student Data Warehouse:   |\\n\"\n",
    "          +\"|---------------------------------------------------|\\n\"\n",
    "          +\"| Prees A for Admin Access:                         |\\n\"\n",
    "          +\"| Press S  for Student Access:                      |\\n\"\n",
    "          +\"| Press Q for Exit:                                 |\\n\"\n",
    "          +\"|---------------------------------------------------|\\n\")\n",
    "    c = input(\"Enter your Choice: \")\n",
    "    if(c.lower() == 'a'):\n",
    "        print(\"[ Experience AI                                     ]\")\n",
    "        print(\"[ ------------------------------------------------- ]\")\n",
    "        print(\"[ 1. Press any key for Enter through Voice command  ]\")\n",
    "        print(\"[ 2. Press 2 for login using User name and Password ]\")\n",
    "        print(\"[ ------------------------------------------------- ]\\n\")\n",
    "        choice = input(\"Enter Login Option: \")\n",
    "        if(choice == '2'):\n",
    "            \n",
    "            loginCount = \"select * from admin\"\n",
    "            cursor.execute(loginCount)\n",
    "            adminInfo = cursor.fetchone()\n",
    "            logCount = adminInfo[2]\n",
    "\n",
    "            print(\"\\nYou have \",logCount,\"attempts, login carefully:\\n\")\n",
    "            aid = input(\"Enter admin ID:\")\n",
    "            pwd = input(\"Enter admin Password: \")\n",
    "            hashString = hashlib.sha256(pwd.encode()).hexdigest()\n",
    "\n",
    "            if(logCount == 0):\n",
    "                print(FAIL+\"You have entered Wrong Password for 3 times. Try after 2 minutes ..\"+RESET)\n",
    "                logCount = 4\n",
    "                countdown(120)\n",
    "            elif(adminInfo[0] == aid and adminInfo[1] == hashString):\n",
    "                print(OK+\"Credential Matched! \"+RESET)\n",
    "                logCount = 4\n",
    "                openAdminPage()\n",
    "            else:\n",
    "                print(FAIL+\"\\nYou are not an admin, Returning to main menu...\\n\"+RESET)\n",
    "            logCount-=1\n",
    "            update_admin = f\"update admin set logcount = {logCount} where aid = 'bg7'\"\n",
    "            cursor.execute(update_admin)\n",
    "            conn.commit()\n",
    "\n",
    "        else:\n",
    "            \n",
    "            print(\"Recognizing, wait for 10 second to process ...\")\n",
    "            loginString = \"hi this is admin\"\n",
    "            voiceString = SpeechRecognizer()\n",
    "            if loginString == voiceString:\n",
    "                print(OK+\"Credential Matched! \"+RESET)\n",
    "                openAdminPage()\n",
    "            else:\n",
    "                print(FAIL +\"Credential does't Matched! \"+RESET)\n",
    "                print(\"\\nYou are not an admin, Returning to main menu...\\n\")\n",
    "                \n",
    "    elif(c.lower() == 's'):\n",
    "        openStudentPage()\n",
    "        \n",
    "    elif(c.lower() == \"q\"):\n",
    "        cursor.close()\n",
    "        conn.close()\n",
    "        print('Thank you, visit again')\n",
    "        break\n",
    "    else:\n",
    "        continue\n"
   ]
  },
  {
   "cell_type": "code",
   "execution_count": null,
   "id": "808716ea-98b7-47eb-b2f2-666c58e6e4a2",
   "metadata": {},
   "outputs": [],
   "source": []
  },
  {
   "cell_type": "code",
   "execution_count": null,
   "id": "9f2329d7-7079-4962-ae57-097043d43edd",
   "metadata": {},
   "outputs": [],
   "source": []
  }
 ],
 "metadata": {
  "kernelspec": {
   "display_name": "Python 3 (ipykernel)",
   "language": "python",
   "name": "python3"
  },
  "language_info": {
   "codemirror_mode": {
    "name": "ipython",
    "version": 3
   },
   "file_extension": ".py",
   "mimetype": "text/x-python",
   "name": "python",
   "nbconvert_exporter": "python",
   "pygments_lexer": "ipython3",
   "version": "3.7.11"
  }
 },
 "nbformat": 4,
 "nbformat_minor": 5
}
